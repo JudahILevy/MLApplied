{
 "cells": [
  {
   "cell_type": "markdown",
   "source": [
    "### Imports + Downloading Data"
   ],
   "metadata": {
    "collapsed": false
   },
   "id": "33c1881729dc3c72"
  },
  {
   "cell_type": "code",
   "execution_count": 1,
   "id": "initial_id",
   "metadata": {
    "collapsed": true,
    "ExecuteTime": {
     "end_time": "2023-10-25T17:43:42.881049Z",
     "start_time": "2023-10-25T17:43:42.586380Z"
    }
   },
   "outputs": [],
   "source": [
    "import numpy as np\n",
    "import seaborn as sns\n",
    "import pandas as pd\n",
    "import matplotlib.pylab as plt\n",
    "from cycler import cycler\n",
    "from sklearn.model_selection import train_test_split\n",
    "from sklearn.metrics import roc_auc_score, accuracy_score\n",
    "import xgboost as xgb"
   ]
  },
  {
   "cell_type": "code",
   "execution_count": 2,
   "outputs": [],
   "source": [
    "np.random.seed(314159)\n",
    "train_txn = pd.read_csv('ieee-fraud-detection/train_transaction.csv')\n",
    "test_txn = pd.read_csv('ieee-fraud-detection/test_transaction.csv')\n",
    "# train_id = pd.read_csv('ieee-fraud-detection/train_identity.csv')"
   ],
   "metadata": {
    "collapsed": false,
    "ExecuteTime": {
     "end_time": "2023-10-25T17:44:21.805223Z",
     "start_time": "2023-10-25T17:43:42.883821Z"
    }
   },
   "id": "ef23653bd30f30ff"
  },
  {
   "cell_type": "code",
   "execution_count": 3,
   "outputs": [],
   "source": [
    "COLUMNS = ['TransactionID', 'isFraud', 'TransactionDT', 'TransactionAmt', 'ProductCD', 'card1', 'card2', 'card3', 'card4',\n",
    "               'card5', 'card6', 'addr1', 'addr2', 'dist1', 'dist2', 'P_emaildomain', 'R_emaildomain', \"V257\",\"V246\",\"V244\",\"V242\",\"V201\",\"V200\",\"V189\",\"V188\",\"V258\",\"V45\",\"V158\",\"V156\",\"V149\",\"V228\",\"V44\",\"V86\",\"V87\",\"V170\",\"V147\",\"V52\"]"
   ],
   "metadata": {
    "collapsed": false,
    "ExecuteTime": {
     "end_time": "2023-10-25T17:44:21.817323Z",
     "start_time": "2023-10-25T17:44:21.809677Z"
    }
   },
   "id": "c640d93f3e717a95"
  },
  {
   "cell_type": "code",
   "execution_count": 4,
   "outputs": [
    {
     "data": {
      "text/plain": "(590540, 37)"
     },
     "execution_count": 4,
     "metadata": {},
     "output_type": "execute_result"
    }
   ],
   "source": [
    "df = train_txn[COLUMNS]\n",
    "df.shape"
   ],
   "metadata": {
    "collapsed": false,
    "ExecuteTime": {
     "end_time": "2023-10-25T17:44:21.976088Z",
     "start_time": "2023-10-25T17:44:21.970923Z"
    }
   },
   "id": "6a8e7b94e57ad4ba"
  },
  {
   "cell_type": "code",
   "execution_count": 5,
   "outputs": [
    {
     "data": {
      "text/plain": "   TransactionID  isFraud  TransactionDT  TransactionAmt ProductCD  card1  \\\n0        2987000        0          86400            68.5         W  13926   \n1        2987001        0          86401            29.0         W   2755   \n2        2987002        0          86469            59.0         W   4663   \n3        2987003        0          86499            50.0         W  18132   \n4        2987004        0          86506            50.0         H   4497   \n\n   card2  card3       card4  card5  ... V158  V156  V149  V228  V44  V86  V87  \\\n0    NaN  150.0    discover  142.0  ...  NaN   NaN   NaN   NaN  NaN  1.0  1.0   \n1  404.0  150.0  mastercard  102.0  ...  NaN   NaN   NaN   NaN  1.0  1.0  1.0   \n2  490.0  150.0        visa  166.0  ...  NaN   NaN   NaN   NaN  1.0  1.0  1.0   \n3  567.0  150.0  mastercard  117.0  ...  NaN   NaN   NaN   NaN  1.0  1.0  1.0   \n4  514.0  150.0  mastercard  102.0  ...  0.0   0.0   0.0   1.0  NaN  NaN  NaN   \n\n   V170  V147  V52  \n0   NaN   NaN  NaN  \n1   NaN   NaN  0.0  \n2   NaN   NaN  0.0  \n3   NaN   NaN  0.0  \n4   1.0   0.0  NaN  \n\n[5 rows x 37 columns]",
      "text/html": "<div>\n<style scoped>\n    .dataframe tbody tr th:only-of-type {\n        vertical-align: middle;\n    }\n\n    .dataframe tbody tr th {\n        vertical-align: top;\n    }\n\n    .dataframe thead th {\n        text-align: right;\n    }\n</style>\n<table border=\"1\" class=\"dataframe\">\n  <thead>\n    <tr style=\"text-align: right;\">\n      <th></th>\n      <th>TransactionID</th>\n      <th>isFraud</th>\n      <th>TransactionDT</th>\n      <th>TransactionAmt</th>\n      <th>ProductCD</th>\n      <th>card1</th>\n      <th>card2</th>\n      <th>card3</th>\n      <th>card4</th>\n      <th>card5</th>\n      <th>...</th>\n      <th>V158</th>\n      <th>V156</th>\n      <th>V149</th>\n      <th>V228</th>\n      <th>V44</th>\n      <th>V86</th>\n      <th>V87</th>\n      <th>V170</th>\n      <th>V147</th>\n      <th>V52</th>\n    </tr>\n  </thead>\n  <tbody>\n    <tr>\n      <th>0</th>\n      <td>2987000</td>\n      <td>0</td>\n      <td>86400</td>\n      <td>68.5</td>\n      <td>W</td>\n      <td>13926</td>\n      <td>NaN</td>\n      <td>150.0</td>\n      <td>discover</td>\n      <td>142.0</td>\n      <td>...</td>\n      <td>NaN</td>\n      <td>NaN</td>\n      <td>NaN</td>\n      <td>NaN</td>\n      <td>NaN</td>\n      <td>1.0</td>\n      <td>1.0</td>\n      <td>NaN</td>\n      <td>NaN</td>\n      <td>NaN</td>\n    </tr>\n    <tr>\n      <th>1</th>\n      <td>2987001</td>\n      <td>0</td>\n      <td>86401</td>\n      <td>29.0</td>\n      <td>W</td>\n      <td>2755</td>\n      <td>404.0</td>\n      <td>150.0</td>\n      <td>mastercard</td>\n      <td>102.0</td>\n      <td>...</td>\n      <td>NaN</td>\n      <td>NaN</td>\n      <td>NaN</td>\n      <td>NaN</td>\n      <td>1.0</td>\n      <td>1.0</td>\n      <td>1.0</td>\n      <td>NaN</td>\n      <td>NaN</td>\n      <td>0.0</td>\n    </tr>\n    <tr>\n      <th>2</th>\n      <td>2987002</td>\n      <td>0</td>\n      <td>86469</td>\n      <td>59.0</td>\n      <td>W</td>\n      <td>4663</td>\n      <td>490.0</td>\n      <td>150.0</td>\n      <td>visa</td>\n      <td>166.0</td>\n      <td>...</td>\n      <td>NaN</td>\n      <td>NaN</td>\n      <td>NaN</td>\n      <td>NaN</td>\n      <td>1.0</td>\n      <td>1.0</td>\n      <td>1.0</td>\n      <td>NaN</td>\n      <td>NaN</td>\n      <td>0.0</td>\n    </tr>\n    <tr>\n      <th>3</th>\n      <td>2987003</td>\n      <td>0</td>\n      <td>86499</td>\n      <td>50.0</td>\n      <td>W</td>\n      <td>18132</td>\n      <td>567.0</td>\n      <td>150.0</td>\n      <td>mastercard</td>\n      <td>117.0</td>\n      <td>...</td>\n      <td>NaN</td>\n      <td>NaN</td>\n      <td>NaN</td>\n      <td>NaN</td>\n      <td>1.0</td>\n      <td>1.0</td>\n      <td>1.0</td>\n      <td>NaN</td>\n      <td>NaN</td>\n      <td>0.0</td>\n    </tr>\n    <tr>\n      <th>4</th>\n      <td>2987004</td>\n      <td>0</td>\n      <td>86506</td>\n      <td>50.0</td>\n      <td>H</td>\n      <td>4497</td>\n      <td>514.0</td>\n      <td>150.0</td>\n      <td>mastercard</td>\n      <td>102.0</td>\n      <td>...</td>\n      <td>0.0</td>\n      <td>0.0</td>\n      <td>0.0</td>\n      <td>1.0</td>\n      <td>NaN</td>\n      <td>NaN</td>\n      <td>NaN</td>\n      <td>1.0</td>\n      <td>0.0</td>\n      <td>NaN</td>\n    </tr>\n  </tbody>\n</table>\n<p>5 rows × 37 columns</p>\n</div>"
     },
     "execution_count": 5,
     "metadata": {},
     "output_type": "execute_result"
    }
   ],
   "source": [
    "df.head()"
   ],
   "metadata": {
    "collapsed": false,
    "ExecuteTime": {
     "end_time": "2023-10-25T17:44:22.012768Z",
     "start_time": "2023-10-25T17:44:21.978582Z"
    }
   },
   "id": "16f02f0cb45f8396"
  },
  {
   "cell_type": "markdown",
   "source": [
    "### Reformatting data for the Model"
   ],
   "metadata": {
    "collapsed": false
   },
   "id": "1e28038bda6dd9f3"
  },
  {
   "cell_type": "code",
   "execution_count": 19,
   "outputs": [
    {
     "data": {
      "text/plain": "   TransactionID  isFraud  TransactionDT  TransactionAmt  card1  card2  card3  \\\n0        2987000        0          86400            68.5  13926    NaN  150.0   \n1        2987001        0          86401            29.0   2755  404.0  150.0   \n2        2987002        0          86469            59.0   4663  490.0  150.0   \n3        2987003        0          86499            50.0  18132  567.0  150.0   \n4        2987004        0          86506            50.0   4497  514.0  150.0   \n\n   card5  addr1  addr2  ...  R_emaildomain_web.de  \\\n0  142.0  315.0   87.0  ...                     0   \n1  102.0  325.0   87.0  ...                     0   \n2  166.0  330.0   87.0  ...                     0   \n3  117.0  476.0   87.0  ...                     0   \n4  102.0  420.0   87.0  ...                     0   \n\n   R_emaildomain_windstream.net  R_emaildomain_yahoo.co.jp  \\\n0                             0                          0   \n1                             0                          0   \n2                             0                          0   \n3                             0                          0   \n4                             0                          0   \n\n   R_emaildomain_yahoo.co.uk  R_emaildomain_yahoo.com  \\\n0                          0                        0   \n1                          0                        0   \n2                          0                        0   \n3                          0                        0   \n4                          0                        0   \n\n   R_emaildomain_yahoo.com.mx  R_emaildomain_yahoo.de  R_emaildomain_yahoo.es  \\\n0                           0                       0                       0   \n1                           0                       0                       0   \n2                           0                       0                       0   \n3                           0                       0                       0   \n4                           0                       0                       0   \n\n   R_emaildomain_yahoo.fr  R_emaildomain_ymail.com  \n0                       0                        0  \n1                       0                        0  \n2                       0                        0  \n3                       0                        0  \n4                       0                        0  \n\n[5 rows x 164 columns]",
      "text/html": "<div>\n<style scoped>\n    .dataframe tbody tr th:only-of-type {\n        vertical-align: middle;\n    }\n\n    .dataframe tbody tr th {\n        vertical-align: top;\n    }\n\n    .dataframe thead th {\n        text-align: right;\n    }\n</style>\n<table border=\"1\" class=\"dataframe\">\n  <thead>\n    <tr style=\"text-align: right;\">\n      <th></th>\n      <th>TransactionID</th>\n      <th>isFraud</th>\n      <th>TransactionDT</th>\n      <th>TransactionAmt</th>\n      <th>card1</th>\n      <th>card2</th>\n      <th>card3</th>\n      <th>card5</th>\n      <th>addr1</th>\n      <th>addr2</th>\n      <th>...</th>\n      <th>R_emaildomain_web.de</th>\n      <th>R_emaildomain_windstream.net</th>\n      <th>R_emaildomain_yahoo.co.jp</th>\n      <th>R_emaildomain_yahoo.co.uk</th>\n      <th>R_emaildomain_yahoo.com</th>\n      <th>R_emaildomain_yahoo.com.mx</th>\n      <th>R_emaildomain_yahoo.de</th>\n      <th>R_emaildomain_yahoo.es</th>\n      <th>R_emaildomain_yahoo.fr</th>\n      <th>R_emaildomain_ymail.com</th>\n    </tr>\n  </thead>\n  <tbody>\n    <tr>\n      <th>0</th>\n      <td>2987000</td>\n      <td>0</td>\n      <td>86400</td>\n      <td>68.5</td>\n      <td>13926</td>\n      <td>NaN</td>\n      <td>150.0</td>\n      <td>142.0</td>\n      <td>315.0</td>\n      <td>87.0</td>\n      <td>...</td>\n      <td>0</td>\n      <td>0</td>\n      <td>0</td>\n      <td>0</td>\n      <td>0</td>\n      <td>0</td>\n      <td>0</td>\n      <td>0</td>\n      <td>0</td>\n      <td>0</td>\n    </tr>\n    <tr>\n      <th>1</th>\n      <td>2987001</td>\n      <td>0</td>\n      <td>86401</td>\n      <td>29.0</td>\n      <td>2755</td>\n      <td>404.0</td>\n      <td>150.0</td>\n      <td>102.0</td>\n      <td>325.0</td>\n      <td>87.0</td>\n      <td>...</td>\n      <td>0</td>\n      <td>0</td>\n      <td>0</td>\n      <td>0</td>\n      <td>0</td>\n      <td>0</td>\n      <td>0</td>\n      <td>0</td>\n      <td>0</td>\n      <td>0</td>\n    </tr>\n    <tr>\n      <th>2</th>\n      <td>2987002</td>\n      <td>0</td>\n      <td>86469</td>\n      <td>59.0</td>\n      <td>4663</td>\n      <td>490.0</td>\n      <td>150.0</td>\n      <td>166.0</td>\n      <td>330.0</td>\n      <td>87.0</td>\n      <td>...</td>\n      <td>0</td>\n      <td>0</td>\n      <td>0</td>\n      <td>0</td>\n      <td>0</td>\n      <td>0</td>\n      <td>0</td>\n      <td>0</td>\n      <td>0</td>\n      <td>0</td>\n    </tr>\n    <tr>\n      <th>3</th>\n      <td>2987003</td>\n      <td>0</td>\n      <td>86499</td>\n      <td>50.0</td>\n      <td>18132</td>\n      <td>567.0</td>\n      <td>150.0</td>\n      <td>117.0</td>\n      <td>476.0</td>\n      <td>87.0</td>\n      <td>...</td>\n      <td>0</td>\n      <td>0</td>\n      <td>0</td>\n      <td>0</td>\n      <td>0</td>\n      <td>0</td>\n      <td>0</td>\n      <td>0</td>\n      <td>0</td>\n      <td>0</td>\n    </tr>\n    <tr>\n      <th>4</th>\n      <td>2987004</td>\n      <td>0</td>\n      <td>86506</td>\n      <td>50.0</td>\n      <td>4497</td>\n      <td>514.0</td>\n      <td>150.0</td>\n      <td>102.0</td>\n      <td>420.0</td>\n      <td>87.0</td>\n      <td>...</td>\n      <td>0</td>\n      <td>0</td>\n      <td>0</td>\n      <td>0</td>\n      <td>0</td>\n      <td>0</td>\n      <td>0</td>\n      <td>0</td>\n      <td>0</td>\n      <td>0</td>\n    </tr>\n  </tbody>\n</table>\n<p>5 rows × 164 columns</p>\n</div>"
     },
     "execution_count": 19,
     "metadata": {},
     "output_type": "execute_result"
    }
   ],
   "source": [
    "# One-hot encode these columns\n",
    "ONE_HOT_COLUMNS = ['ProductCD', 'card4', 'card6', 'P_emaildomain', 'R_emaildomain']\n",
    "df_dummies = pd.get_dummies(df, columns=ONE_HOT_COLUMNS, prefix=ONE_HOT_COLUMNS, dummy_na=False) #dummy_na can be changed if it performs better w/o\n",
    "df_dummies.head()"
   ],
   "metadata": {
    "collapsed": false,
    "ExecuteTime": {
     "end_time": "2023-10-25T18:48:23.242715Z",
     "start_time": "2023-10-25T18:48:22.043093Z"
    }
   },
   "id": "4b4aef3774907a6b"
  },
  {
   "cell_type": "code",
   "execution_count": 20,
   "outputs": [],
   "source": [
    "# List of columns you didn't one-hot encode\n",
    "columns_to_fill_with_mean = list(set(df.columns) - set(ONE_HOT_COLUMNS))\n",
    "    # [col for col in df.columns if col not in ONE_HOT_COLUMNS]\n",
    "\n",
    "# Fill NaN values with column means\n",
    "df_dummies[columns_to_fill_with_mean] = df_dummies[columns_to_fill_with_mean].fillna(df_dummies[columns_to_fill_with_mean].median())"
   ],
   "metadata": {
    "collapsed": false,
    "ExecuteTime": {
     "end_time": "2023-10-25T18:48:25.100913Z",
     "start_time": "2023-10-25T18:48:23.804977Z"
    }
   },
   "id": "21d51012ed0a9c15"
  },
  {
   "cell_type": "code",
   "execution_count": 21,
   "outputs": [
    {
     "data": {
      "text/plain": "   TransactionID  isFraud  TransactionDT  TransactionAmt  card1  card2  card3  \\\n0        2987000        0          86400            68.5  13926  361.0  150.0   \n1        2987001        0          86401            29.0   2755  404.0  150.0   \n2        2987002        0          86469            59.0   4663  490.0  150.0   \n3        2987003        0          86499            50.0  18132  567.0  150.0   \n4        2987004        0          86506            50.0   4497  514.0  150.0   \n\n   card5  addr1  addr2  ...  R_emaildomain_web.de  \\\n0  142.0  315.0   87.0  ...                     0   \n1  102.0  325.0   87.0  ...                     0   \n2  166.0  330.0   87.0  ...                     0   \n3  117.0  476.0   87.0  ...                     0   \n4  102.0  420.0   87.0  ...                     0   \n\n   R_emaildomain_windstream.net  R_emaildomain_yahoo.co.jp  \\\n0                             0                          0   \n1                             0                          0   \n2                             0                          0   \n3                             0                          0   \n4                             0                          0   \n\n   R_emaildomain_yahoo.co.uk  R_emaildomain_yahoo.com  \\\n0                          0                        0   \n1                          0                        0   \n2                          0                        0   \n3                          0                        0   \n4                          0                        0   \n\n   R_emaildomain_yahoo.com.mx  R_emaildomain_yahoo.de  R_emaildomain_yahoo.es  \\\n0                           0                       0                       0   \n1                           0                       0                       0   \n2                           0                       0                       0   \n3                           0                       0                       0   \n4                           0                       0                       0   \n\n   R_emaildomain_yahoo.fr  R_emaildomain_ymail.com  \n0                       0                        0  \n1                       0                        0  \n2                       0                        0  \n3                       0                        0  \n4                       0                        0  \n\n[5 rows x 164 columns]",
      "text/html": "<div>\n<style scoped>\n    .dataframe tbody tr th:only-of-type {\n        vertical-align: middle;\n    }\n\n    .dataframe tbody tr th {\n        vertical-align: top;\n    }\n\n    .dataframe thead th {\n        text-align: right;\n    }\n</style>\n<table border=\"1\" class=\"dataframe\">\n  <thead>\n    <tr style=\"text-align: right;\">\n      <th></th>\n      <th>TransactionID</th>\n      <th>isFraud</th>\n      <th>TransactionDT</th>\n      <th>TransactionAmt</th>\n      <th>card1</th>\n      <th>card2</th>\n      <th>card3</th>\n      <th>card5</th>\n      <th>addr1</th>\n      <th>addr2</th>\n      <th>...</th>\n      <th>R_emaildomain_web.de</th>\n      <th>R_emaildomain_windstream.net</th>\n      <th>R_emaildomain_yahoo.co.jp</th>\n      <th>R_emaildomain_yahoo.co.uk</th>\n      <th>R_emaildomain_yahoo.com</th>\n      <th>R_emaildomain_yahoo.com.mx</th>\n      <th>R_emaildomain_yahoo.de</th>\n      <th>R_emaildomain_yahoo.es</th>\n      <th>R_emaildomain_yahoo.fr</th>\n      <th>R_emaildomain_ymail.com</th>\n    </tr>\n  </thead>\n  <tbody>\n    <tr>\n      <th>0</th>\n      <td>2987000</td>\n      <td>0</td>\n      <td>86400</td>\n      <td>68.5</td>\n      <td>13926</td>\n      <td>361.0</td>\n      <td>150.0</td>\n      <td>142.0</td>\n      <td>315.0</td>\n      <td>87.0</td>\n      <td>...</td>\n      <td>0</td>\n      <td>0</td>\n      <td>0</td>\n      <td>0</td>\n      <td>0</td>\n      <td>0</td>\n      <td>0</td>\n      <td>0</td>\n      <td>0</td>\n      <td>0</td>\n    </tr>\n    <tr>\n      <th>1</th>\n      <td>2987001</td>\n      <td>0</td>\n      <td>86401</td>\n      <td>29.0</td>\n      <td>2755</td>\n      <td>404.0</td>\n      <td>150.0</td>\n      <td>102.0</td>\n      <td>325.0</td>\n      <td>87.0</td>\n      <td>...</td>\n      <td>0</td>\n      <td>0</td>\n      <td>0</td>\n      <td>0</td>\n      <td>0</td>\n      <td>0</td>\n      <td>0</td>\n      <td>0</td>\n      <td>0</td>\n      <td>0</td>\n    </tr>\n    <tr>\n      <th>2</th>\n      <td>2987002</td>\n      <td>0</td>\n      <td>86469</td>\n      <td>59.0</td>\n      <td>4663</td>\n      <td>490.0</td>\n      <td>150.0</td>\n      <td>166.0</td>\n      <td>330.0</td>\n      <td>87.0</td>\n      <td>...</td>\n      <td>0</td>\n      <td>0</td>\n      <td>0</td>\n      <td>0</td>\n      <td>0</td>\n      <td>0</td>\n      <td>0</td>\n      <td>0</td>\n      <td>0</td>\n      <td>0</td>\n    </tr>\n    <tr>\n      <th>3</th>\n      <td>2987003</td>\n      <td>0</td>\n      <td>86499</td>\n      <td>50.0</td>\n      <td>18132</td>\n      <td>567.0</td>\n      <td>150.0</td>\n      <td>117.0</td>\n      <td>476.0</td>\n      <td>87.0</td>\n      <td>...</td>\n      <td>0</td>\n      <td>0</td>\n      <td>0</td>\n      <td>0</td>\n      <td>0</td>\n      <td>0</td>\n      <td>0</td>\n      <td>0</td>\n      <td>0</td>\n      <td>0</td>\n    </tr>\n    <tr>\n      <th>4</th>\n      <td>2987004</td>\n      <td>0</td>\n      <td>86506</td>\n      <td>50.0</td>\n      <td>4497</td>\n      <td>514.0</td>\n      <td>150.0</td>\n      <td>102.0</td>\n      <td>420.0</td>\n      <td>87.0</td>\n      <td>...</td>\n      <td>0</td>\n      <td>0</td>\n      <td>0</td>\n      <td>0</td>\n      <td>0</td>\n      <td>0</td>\n      <td>0</td>\n      <td>0</td>\n      <td>0</td>\n      <td>0</td>\n    </tr>\n  </tbody>\n</table>\n<p>5 rows × 164 columns</p>\n</div>"
     },
     "execution_count": 21,
     "metadata": {},
     "output_type": "execute_result"
    }
   ],
   "source": [
    "df_dummies.head()"
   ],
   "metadata": {
    "collapsed": false,
    "ExecuteTime": {
     "end_time": "2023-10-25T18:48:28.347019Z",
     "start_time": "2023-10-25T18:48:28.317648Z"
    }
   },
   "id": "2aae245dd8de6052"
  },
  {
   "cell_type": "markdown",
   "source": [
    "### Model Building - XGBoost"
   ],
   "metadata": {
    "collapsed": false
   },
   "id": "2dd27b35d70c3ce9"
  },
  {
   "cell_type": "code",
   "execution_count": 22,
   "outputs": [],
   "source": [
    "X = df_dummies.drop('isFraud', axis=1)\n",
    "y = df_dummies['isFraud']\n",
    "X_train, X_test, y_train, y_test = train_test_split(X, y, test_size=0.2, random_state=42, stratify=y)"
   ],
   "metadata": {
    "collapsed": false,
    "ExecuteTime": {
     "end_time": "2023-10-25T18:48:32.164334Z",
     "start_time": "2023-10-25T18:48:31.066205Z"
    }
   },
   "id": "c8474038bc5238b"
  },
  {
   "cell_type": "code",
   "execution_count": 23,
   "outputs": [],
   "source": [
    "clf = xgb.XGBClassifier(\n",
    "    n_estimators=500,\n",
    "    max_depth=5,\n",
    "    learning_rate=0.1,\n",
    "    subsample=0.8,\n",
    "    colsample_bytree=0.8,\n",
    "    missing=-999,\n",
    "    random_state=42,\n",
    "    scale_pos_weight = 30.0,\n",
    "    eval_metric = 'auc'\n",
    ")"
   ],
   "metadata": {
    "collapsed": false,
    "ExecuteTime": {
     "end_time": "2023-10-25T18:48:33.384814Z",
     "start_time": "2023-10-25T18:48:33.373652Z"
    }
   },
   "id": "ebdcf367ce04f77f"
  },
  {
   "cell_type": "code",
   "execution_count": 24,
   "outputs": [
    {
     "data": {
      "text/plain": "XGBClassifier(base_score=None, booster=None, callbacks=None,\n              colsample_bylevel=None, colsample_bynode=None,\n              colsample_bytree=0.8, early_stopping_rounds=None,\n              enable_categorical=False, eval_metric='auc', feature_types=None,\n              gamma=None, gpu_id=None, grow_policy=None, importance_type=None,\n              interaction_constraints=None, learning_rate=0.1, max_bin=None,\n              max_cat_threshold=None, max_cat_to_onehot=None,\n              max_delta_step=None, max_depth=5, max_leaves=None,\n              min_child_weight=None, missing=-999, monotone_constraints=None,\n              n_estimators=500, n_jobs=None, num_parallel_tree=None,\n              predictor=None, random_state=42, ...)"
     },
     "execution_count": 24,
     "metadata": {},
     "output_type": "execute_result"
    }
   ],
   "source": [
    "clf.fit(X_train, y_train)"
   ],
   "metadata": {
    "collapsed": false,
    "ExecuteTime": {
     "end_time": "2023-10-25T18:53:46.712223Z",
     "start_time": "2023-10-25T18:48:34.279508Z"
    }
   },
   "id": "32bfc86b8c34afc9"
  },
  {
   "cell_type": "code",
   "execution_count": 25,
   "outputs": [],
   "source": [
    "y_pred = clf.predict_proba(X_test).T[1]"
   ],
   "metadata": {
    "collapsed": false,
    "ExecuteTime": {
     "end_time": "2023-10-25T18:53:47.099542Z",
     "start_time": "2023-10-25T18:53:46.715263Z"
    }
   },
   "id": "424a9170a8887ad5"
  },
  {
   "cell_type": "code",
   "execution_count": 26,
   "outputs": [
    {
     "data": {
      "text/plain": "0.9133092814817603"
     },
     "execution_count": 26,
     "metadata": {},
     "output_type": "execute_result"
    }
   ],
   "source": [
    "roc_auc_score(y_test, y_pred)"
   ],
   "metadata": {
    "collapsed": false,
    "ExecuteTime": {
     "end_time": "2023-10-25T18:53:47.197554Z",
     "start_time": "2023-10-25T18:53:47.104779Z"
    }
   },
   "id": "a784d16623aa1bec"
  },
  {
   "cell_type": "markdown",
   "source": [
    "### Model 2 - Keras"
   ],
   "metadata": {
    "collapsed": false
   },
   "id": "ab2b2d46ad612aee"
  },
  {
   "cell_type": "code",
   "execution_count": 14,
   "outputs": [],
   "source": [
    "from tensorflow.keras.layers import Input, Dense, Dropout\n",
    "from tensorflow.keras.models import Model\n",
    "from tensorflow.keras.optimizers import SGD\n",
    "from keras.models import Sequential\n",
    "import tensorflow as tf"
   ],
   "metadata": {
    "collapsed": false,
    "ExecuteTime": {
     "end_time": "2023-10-25T17:47:58.319144Z",
     "start_time": "2023-10-25T17:47:53.941861Z"
    }
   },
   "id": "a4e2771d053b3cd5"
  },
  {
   "cell_type": "code",
   "execution_count": 15,
   "outputs": [
    {
     "name": "stderr",
     "output_type": "stream",
     "text": [
      "2023-10-25 13:47:58.323591: I tensorflow/core/platform/cpu_feature_guard.cc:142] This TensorFlow binary is optimized with oneAPI Deep Neural Network Library (oneDNN) to use the following CPU instructions in performance-critical operations:  AVX2 FMA\n",
      "To enable them in other operations, rebuild TensorFlow with the appropriate compiler flags.\n"
     ]
    }
   ],
   "source": [
    "model = Sequential()\n",
    "model.add(Dense(units=16, activation='relu', input_dim=X_test.shape[1]))\n",
    "model.add(Dense(8, activation='relu'))\n",
    "model.add(Dense(1, activation='sigmoid'))\n",
    "model.compile(optimizer='adam', loss='bce', metrics=['accuracy'])"
   ],
   "metadata": {
    "collapsed": false,
    "ExecuteTime": {
     "end_time": "2023-10-25T17:47:58.344991Z",
     "start_time": "2023-10-25T17:47:58.322350Z"
    }
   },
   "id": "41bd9d49baf25a3"
  },
  {
   "cell_type": "code",
   "execution_count": 16,
   "outputs": [
    {
     "name": "stderr",
     "output_type": "stream",
     "text": [
      "2023-10-25 13:47:59.358719: I tensorflow/compiler/mlir/mlir_graph_optimization_pass.cc:176] None of the MLIR Optimization Passes are enabled (registered 2)\n"
     ]
    },
    {
     "name": "stdout",
     "output_type": "stream",
     "text": [
      "Epoch 1/20\n",
      "14764/14764 [==============================] - 26s 902us/step - loss: 12182.6302 - accuracy: 0.9124\n",
      "Epoch 2/20\n",
      "14764/14764 [==============================] - 13s 853us/step - loss: 156.7002 - accuracy: 0.9398\n",
      "Epoch 3/20\n",
      "14764/14764 [==============================] - 13s 847us/step - loss: 0.1509 - accuracy: 0.9652\n",
      "Epoch 4/20\n",
      "14764/14764 [==============================] - 14s 969us/step - loss: 0.1524 - accuracy: 0.9648\n",
      "Epoch 5/20\n",
      "14764/14764 [==============================] - 13s 900us/step - loss: 0.1511 - accuracy: 0.9652\n",
      "Epoch 6/20\n",
      "14764/14764 [==============================] - 13s 890us/step - loss: 0.1527 - accuracy: 0.9647\n",
      "Epoch 7/20\n",
      "14764/14764 [==============================] - 13s 892us/step - loss: 0.1518 - accuracy: 0.9650\n",
      "Epoch 8/20\n",
      "14764/14764 [==============================] - 14s 958us/step - loss: 0.1508 - accuracy: 0.9653\n",
      "Epoch 9/20\n",
      "14764/14764 [==============================] - 13s 903us/step - loss: 0.1511 - accuracy: 0.9652\n",
      "Epoch 10/20\n",
      "14764/14764 [==============================] - 13s 894us/step - loss: 0.1515 - accuracy: 0.9651\n",
      "Epoch 11/20\n",
      "14764/14764 [==============================] - 13s 895us/step - loss: 0.1542 - accuracy: 0.9642\n",
      "Epoch 12/20\n",
      "14764/14764 [==============================] - 13s 891us/step - loss: 0.1520 - accuracy: 0.9649\n",
      "Epoch 13/20\n",
      "14764/14764 [==============================] - 13s 870us/step - loss: 0.1509 - accuracy: 0.9653\n",
      "Epoch 14/20\n",
      "14764/14764 [==============================] - 13s 870us/step - loss: 0.1519 - accuracy: 0.9650\n",
      "Epoch 15/20\n",
      "14764/14764 [==============================] - 13s 891us/step - loss: 0.1513 - accuracy: 0.9651\n",
      "Epoch 16/20\n",
      "14764/14764 [==============================] - 13s 899us/step - loss: 0.1524 - accuracy: 0.9648\n",
      "Epoch 17/20\n",
      "14764/14764 [==============================] - 13s 890us/step - loss: 0.1515 - accuracy: 0.9651\n",
      "Epoch 18/20\n",
      "14764/14764 [==============================] - 13s 905us/step - loss: 0.1519 - accuracy: 0.9650\n",
      "Epoch 19/20\n",
      "14764/14764 [==============================] - 13s 897us/step - loss: 0.1518 - accuracy: 0.9650\n",
      "Epoch 20/20\n",
      "14764/14764 [==============================] - 13s 895us/step - loss: 0.1512 - accuracy: 0.9652\n"
     ]
    },
    {
     "data": {
      "text/plain": "<keras.callbacks.History at 0x7fb358a171f0>"
     },
     "execution_count": 16,
     "metadata": {},
     "output_type": "execute_result"
    }
   ],
   "source": [
    "model.fit(X_train, y_train, epochs=20)"
   ],
   "metadata": {
    "collapsed": false,
    "ExecuteTime": {
     "end_time": "2023-10-25T17:52:36.509726Z",
     "start_time": "2023-10-25T17:47:58.348196Z"
    }
   },
   "id": "db7d11eaa2846502"
  },
  {
   "cell_type": "code",
   "execution_count": 17,
   "outputs": [
    {
     "name": "stdout",
     "output_type": "stream",
     "text": [
      "3691/3691 [==============================] - 3s 682us/step - loss: 0.1517 - accuracy: 0.9650\n"
     ]
    },
    {
     "data": {
      "text/plain": "[0.15170331299304962, 0.9650065898895264]"
     },
     "execution_count": 17,
     "metadata": {},
     "output_type": "execute_result"
    }
   ],
   "source": [
    "model.evaluate(X_test, y_test)"
   ],
   "metadata": {
    "collapsed": false,
    "ExecuteTime": {
     "end_time": "2023-10-25T17:52:39.577282Z",
     "start_time": "2023-10-25T17:52:36.511061Z"
    }
   },
   "id": "1166f42692de219"
  },
  {
   "cell_type": "code",
   "execution_count": 18,
   "outputs": [
    {
     "data": {
      "text/plain": "array([[0.03580183],\n       [0.03580183],\n       [0.03580183],\n       ...,\n       [0.03580183],\n       [0.03580183],\n       [0.03580183]], dtype=float32)"
     },
     "execution_count": 18,
     "metadata": {},
     "output_type": "execute_result"
    }
   ],
   "source": [
    "model.predict(X_test)"
   ],
   "metadata": {
    "collapsed": false,
    "ExecuteTime": {
     "end_time": "2023-10-25T18:41:11.967659Z",
     "start_time": "2023-10-25T18:41:10.085985Z"
    }
   },
   "id": "62462f44eebe6174"
  },
  {
   "cell_type": "code",
   "execution_count": null,
   "outputs": [],
   "source": [],
   "metadata": {
    "collapsed": false
   },
   "id": "2f40c03dbf01b27d"
  }
 ],
 "metadata": {
  "kernelspec": {
   "display_name": "Python 3",
   "language": "python",
   "name": "python3"
  },
  "language_info": {
   "codemirror_mode": {
    "name": "ipython",
    "version": 2
   },
   "file_extension": ".py",
   "mimetype": "text/x-python",
   "name": "python",
   "nbconvert_exporter": "python",
   "pygments_lexer": "ipython2",
   "version": "2.7.6"
  }
 },
 "nbformat": 4,
 "nbformat_minor": 5
}
